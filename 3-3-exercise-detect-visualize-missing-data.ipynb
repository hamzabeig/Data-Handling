{
  "cells": [
    {
      "cell_type": "markdown",
      "source": [
        "# Exercise: Titanic Dataset - Find and Visualize Missing Data\n",
        "\n",
        "Datasets can often have missing data, which can cause problems when we perform machine learning. Missing data can be hard to spot at a first glance.\n",
        "\n",
        "Our scenario uses a list of passengers on the failed maiden voyage of the Titanic. We want to know which factors predicted passenger survival. For our first task, which we perform here, we check whether our dataset has missing information."
      ],
      "metadata": {}
    },
    {
      "cell_type": "code",
      "source": [
        "## The required 'matplotlib' visualization library\n",
        "\n",
        "This tutorial relies on the 'matplotlib' Python visualization library to build data graph resources. Depending on the \n",
        "environment you use to execute the code in this notebook, you might need to install that library to proceed."
      ],
      "outputs": [],
      "execution_count": null,
      "metadata": {}
    },
    {
      "cell_type": "markdown",
      "source": [
        "## Preparing data\n",
        "\n",
        "Let's use Pandas to load the dataset and take a cursory look at it:"
      ],
      "metadata": {
        "nteract": {
          "transient": {
            "deleting": false
          }
        }
      }
    },
    {
      "cell_type": "code",
      "source": [
        "!pip install matplotlib"
      ],
      "outputs": [
        {
          "output_type": "stream",
          "name": "stdout",
          "text": "Requirement already satisfied: matplotlib in /anaconda/envs/py38_default/lib/python3.8/site-packages (3.2.1)\nRequirement already satisfied: cycler>=0.10 in /anaconda/envs/py38_default/lib/python3.8/site-packages (from matplotlib) (0.11.0)\nRequirement already satisfied: kiwisolver>=1.0.1 in /anaconda/envs/py38_default/lib/python3.8/site-packages (from matplotlib) (1.4.2)\nRequirement already satisfied: python-dateutil>=2.1 in /anaconda/envs/py38_default/lib/python3.8/site-packages (from matplotlib) (2.8.2)\nRequirement already satisfied: pyparsing!=2.0.4,!=2.1.2,!=2.1.6,>=2.0.1 in /anaconda/envs/py38_default/lib/python3.8/site-packages (from matplotlib) (3.0.9)\nRequirement already satisfied: numpy>=1.11 in /anaconda/envs/py38_default/lib/python3.8/site-packages (from matplotlib) (1.22.4)\nRequirement already satisfied: six>=1.5 in /anaconda/envs/py38_default/lib/python3.8/site-packages (from python-dateutil>=2.1->matplotlib) (1.16.0)\n\n\u001b[1m[\u001b[0m\u001b[34;49mnotice\u001b[0m\u001b[1;39;49m]\u001b[0m\u001b[39;49m A new release of pip available: \u001b[0m\u001b[31;49m22.2.2\u001b[0m\u001b[39;49m -> \u001b[0m\u001b[32;49m24.0\u001b[0m\n\u001b[1m[\u001b[0m\u001b[34;49mnotice\u001b[0m\u001b[1;39;49m]\u001b[0m\u001b[39;49m To update, run: \u001b[0m\u001b[32;49mpip install --upgrade pip\u001b[0m\n"
        }
      ],
      "execution_count": 2,
      "metadata": {
        "jupyter": {
          "source_hidden": false,
          "outputs_hidden": false
        },
        "nteract": {
          "transient": {
            "deleting": false
          }
        }
      }
    },
    {
      "cell_type": "code",
      "source": [
        "import pandas as pd\n",
        "!pip install missingno\n",
        "\n",
        "# Load data from our dataset file into a pandas dataframe\n",
        "!wget https://raw.githubusercontent.com/MicrosoftDocs/mslearn-introduction-to-machine-learning/main/Data/titanic.csv\n",
        "!wget https://raw.githubusercontent.com/MicrosoftDocs/mslearn-introduction-to-machine-learning/main/graphing.py\n",
        "dataset = pd.read_csv('titanic.csv', index_col=False, sep=\",\", header=0)\n",
        "\n",
        "# Let's take a look at the data\n",
        "dataset.head()\n"
      ],
      "outputs": [
        {
          "output_type": "stream",
          "name": "stdout",
          "text": "Collecting missingno\n  Downloading missingno-0.5.2-py3-none-any.whl (8.7 kB)\nRequirement already satisfied: numpy in /anaconda/envs/py38_default/lib/python3.8/site-packages (from missingno) (1.23.3)\nRequirement already satisfied: matplotlib in /anaconda/envs/py38_default/lib/python3.8/site-packages (from missingno) (3.2.1)\nRequirement already satisfied: scipy in /anaconda/envs/py38_default/lib/python3.8/site-packages (from missingno) (1.7.3)\nRequirement already satisfied: seaborn in /anaconda/envs/py38_default/lib/python3.8/site-packages (from missingno) (0.12.1)\nRequirement already satisfied: kiwisolver>=1.0.1 in /anaconda/envs/py38_default/lib/python3.8/site-packages (from matplotlib->missingno) (1.4.2)\nRequirement already satisfied: pyparsing!=2.0.4,!=2.1.2,!=2.1.6,>=2.0.1 in /anaconda/envs/py38_default/lib/python3.8/site-packages (from matplotlib->missingno) (3.0.9)\nRequirement already satisfied: cycler>=0.10 in /anaconda/envs/py38_default/lib/python3.8/site-packages (from matplotlib->missingno) (0.11.0)\nRequirement already satisfied: python-dateutil>=2.1 in /anaconda/envs/py38_default/lib/python3.8/site-packages (from matplotlib->missingno) (2.8.2)\nCollecting numpy\n  Downloading numpy-1.22.4-cp38-cp38-manylinux_2_17_x86_64.manylinux2014_x86_64.whl (16.9 MB)\n\u001b[2K     \u001b[90m━━━━━━━━━━━━━━━━━━━━━━━━━━━━━━━━━━━━━━━━\u001b[0m \u001b[32m16.9/16.9 MB\u001b[0m \u001b[31m10.4 MB/s\u001b[0m eta \u001b[36m0:00:00\u001b[0m00:01\u001b[0m00:01\u001b[0m\n\u001b[?25hRequirement already satisfied: pandas>=0.25 in /anaconda/envs/py38_default/lib/python3.8/site-packages (from seaborn->missingno) (1.4.3)\nRequirement already satisfied: pytz>=2020.1 in /anaconda/envs/py38_default/lib/python3.8/site-packages (from pandas>=0.25->seaborn->missingno) (2022.1)\nRequirement already satisfied: six>=1.5 in /anaconda/envs/py38_default/lib/python3.8/site-packages (from python-dateutil>=2.1->matplotlib->missingno) (1.16.0)\nInstalling collected packages: numpy, missingno\n  Attempting uninstall: numpy\n    Found existing installation: numpy 1.23.3\n    Uninstalling numpy-1.23.3:\n      Successfully uninstalled numpy-1.23.3\n\u001b[31mERROR: pip's dependency resolver does not currently take into account all the packages that are installed. This behaviour is the source of the following dependency conflicts.\nfbprophet 0.7.1 requires cmdstanpy==0.9.5, which is not installed.\nfbprophet 0.7.1 requires setuptools-git>=1.2, which is not installed.\ntf2onnx 1.12.0 requires flatbuffers~=1.12, but you have flatbuffers 2.0.7 which is incompatible.\u001b[0m\u001b[31m\n\u001b[0mSuccessfully installed missingno-0.5.2 numpy-1.22.4\n\n\u001b[1m[\u001b[0m\u001b[34;49mnotice\u001b[0m\u001b[1;39;49m]\u001b[0m\u001b[39;49m A new release of pip available: \u001b[0m\u001b[31;49m22.2.2\u001b[0m\u001b[39;49m -> \u001b[0m\u001b[32;49m24.0\u001b[0m\n\u001b[1m[\u001b[0m\u001b[34;49mnotice\u001b[0m\u001b[1;39;49m]\u001b[0m\u001b[39;49m To update, run: \u001b[0m\u001b[32;49mpip install --upgrade pip\u001b[0m\n--2024-05-09 08:01:42--  https://raw.githubusercontent.com/MicrosoftDocs/mslearn-introduction-to-machine-learning/main/Data/titanic.csv\nResolving raw.githubusercontent.com (raw.githubusercontent.com)... 185.199.111.133, 185.199.108.133, 185.199.109.133, ...\nConnecting to raw.githubusercontent.com (raw.githubusercontent.com)|185.199.111.133|:443... connected.\nHTTP request sent, awaiting response... 200 OK\nLength: 61194 (60K) [text/plain]\nSaving to: ‘titanic.csv’\n\ntitanic.csv         100%[===================>]  59.76K  --.-KB/s    in 0.001s  \n\n2024-05-09 08:01:42 (53.6 MB/s) - ‘titanic.csv’ saved [61194/61194]\n\n--2024-05-09 08:01:44--  https://raw.githubusercontent.com/MicrosoftDocs/mslearn-introduction-to-machine-learning/main/graphing.py\nResolving raw.githubusercontent.com (raw.githubusercontent.com)... 185.199.110.133, 185.199.109.133, 185.199.108.133, ...\nConnecting to raw.githubusercontent.com (raw.githubusercontent.com)|185.199.110.133|:443... connected.\nHTTP request sent, awaiting response... 200 OK\nLength: 21511 (21K) [text/plain]\nSaving to: ‘graphing.py’\n\ngraphing.py         100%[===================>]  21.01K  --.-KB/s    in 0s      \n\n2024-05-09 08:01:44 (90.9 MB/s) - ‘graphing.py’ saved [21511/21511]\n\n"
        },
        {
          "output_type": "execute_result",
          "execution_count": 1,
          "data": {
            "text/plain": "   PassengerId  Survived  Pclass  \\\n0            1         0       3   \n1            2         1       1   \n2            3         1       3   \n3            4         1       1   \n4            5         0       3   \n\n                                                Name     Sex   Age  SibSp  \\\n0                            Braund, Mr. Owen Harris    male  22.0      1   \n1  Cumings, Mrs. John Bradley (Florence Briggs Th...  female  38.0      1   \n2                             Heikkinen, Miss. Laina  female  26.0      0   \n3       Futrelle, Mrs. Jacques Heath (Lily May Peel)  female  35.0      1   \n4                           Allen, Mr. William Henry    male  35.0      0   \n\n   Parch            Ticket     Fare Cabin Embarked  \n0      0         A/5 21171   7.2500   NaN        S  \n1      0          PC 17599  71.2833   C85        C  \n2      0  STON/O2. 3101282   7.9250   NaN        S  \n3      0            113803  53.1000  C123        S  \n4      0            373450   8.0500   NaN        S  ",
            "text/html": "<div>\n<style scoped>\n    .dataframe tbody tr th:only-of-type {\n        vertical-align: middle;\n    }\n\n    .dataframe tbody tr th {\n        vertical-align: top;\n    }\n\n    .dataframe thead th {\n        text-align: right;\n    }\n</style>\n<table border=\"1\" class=\"dataframe\">\n  <thead>\n    <tr style=\"text-align: right;\">\n      <th></th>\n      <th>PassengerId</th>\n      <th>Survived</th>\n      <th>Pclass</th>\n      <th>Name</th>\n      <th>Sex</th>\n      <th>Age</th>\n      <th>SibSp</th>\n      <th>Parch</th>\n      <th>Ticket</th>\n      <th>Fare</th>\n      <th>Cabin</th>\n      <th>Embarked</th>\n    </tr>\n  </thead>\n  <tbody>\n    <tr>\n      <th>0</th>\n      <td>1</td>\n      <td>0</td>\n      <td>3</td>\n      <td>Braund, Mr. Owen Harris</td>\n      <td>male</td>\n      <td>22.0</td>\n      <td>1</td>\n      <td>0</td>\n      <td>A/5 21171</td>\n      <td>7.2500</td>\n      <td>NaN</td>\n      <td>S</td>\n    </tr>\n    <tr>\n      <th>1</th>\n      <td>2</td>\n      <td>1</td>\n      <td>1</td>\n      <td>Cumings, Mrs. John Bradley (Florence Briggs Th...</td>\n      <td>female</td>\n      <td>38.0</td>\n      <td>1</td>\n      <td>0</td>\n      <td>PC 17599</td>\n      <td>71.2833</td>\n      <td>C85</td>\n      <td>C</td>\n    </tr>\n    <tr>\n      <th>2</th>\n      <td>3</td>\n      <td>1</td>\n      <td>3</td>\n      <td>Heikkinen, Miss. Laina</td>\n      <td>female</td>\n      <td>26.0</td>\n      <td>0</td>\n      <td>0</td>\n      <td>STON/O2. 3101282</td>\n      <td>7.9250</td>\n      <td>NaN</td>\n      <td>S</td>\n    </tr>\n    <tr>\n      <th>3</th>\n      <td>4</td>\n      <td>1</td>\n      <td>1</td>\n      <td>Futrelle, Mrs. Jacques Heath (Lily May Peel)</td>\n      <td>female</td>\n      <td>35.0</td>\n      <td>1</td>\n      <td>0</td>\n      <td>113803</td>\n      <td>53.1000</td>\n      <td>C123</td>\n      <td>S</td>\n    </tr>\n    <tr>\n      <th>4</th>\n      <td>5</td>\n      <td>0</td>\n      <td>3</td>\n      <td>Allen, Mr. William Henry</td>\n      <td>male</td>\n      <td>35.0</td>\n      <td>0</td>\n      <td>0</td>\n      <td>373450</td>\n      <td>8.0500</td>\n      <td>NaN</td>\n      <td>S</td>\n    </tr>\n  </tbody>\n</table>\n</div>"
          },
          "metadata": {}
        }
      ],
      "execution_count": 1,
      "metadata": {
        "gather": {
          "logged": 1677282976719
        }
      }
    },
    {
      "cell_type": "markdown",
      "source": [
        "Now, we'll see the number of samples and columns in the data set:\n",
        "\n"
      ],
      "metadata": {}
    },
    {
      "cell_type": "code",
      "source": [
        "# Shape tells us how many rows and columns we have\n",
        "print(dataset.shape)"
      ],
      "outputs": [
        {
          "output_type": "stream",
          "name": "stdout",
          "text": "(891, 12)\n"
        }
      ],
      "execution_count": 3,
      "metadata": {
        "gather": {
          "logged": 1677282985793
        }
      }
    },
    {
      "cell_type": "markdown",
      "source": [
        "We have data for 891 passengers, each described by 12 different variables.\n",
        "\n",
        "## Finding Missing Data\n",
        "\n",
        "Do we have a complete dataset?\n",
        "\n",
        "No. We know from historical records that there were more than 2000 people on the Titanic, so we are clearly missing information on more than 1000 people! \n",
        "\n",
        "How can we tell if the available data is complete?\n",
        "\n",
        "We could print the entire dataset, but this might involve human error, and it would become impractical with this many samples.\n",
        "\n",
        "A better option would use `pandas` to report the columns that have \"empty\" cells:"
      ],
      "metadata": {}
    },
    {
      "cell_type": "code",
      "source": [
        "# Calculate the number of empty cells in each column\n",
        "# The following line consists of three commands. Try\n",
        "# to think about how they work together to calculate\n",
        "# the number of missing entries per column\n",
        "missing_data = dataset.isnull().sum().to_frame()\n",
        "\n",
        "# Rename column holding the sums\n",
        "missing_data = missing_data.rename(columns={0:'Empty Cells'})\n",
        "\n",
        "# Print the results\n",
        "print(missing_data)"
      ],
      "outputs": [
        {
          "output_type": "stream",
          "name": "stdout",
          "text": "             Empty Cells\nPassengerId            0\nSurvived               0\nPclass                 0\nName                   0\nSex                    0\nAge                  177\nSibSp                  0\nParch                  0\nTicket                 0\nFare                   0\nCabin                687\nEmbarked               2\n"
        }
      ],
      "execution_count": 4,
      "metadata": {
        "gather": {
          "logged": 1677282996252
        }
      }
    },
    {
      "attachments": {},
      "cell_type": "markdown",
      "source": [
        "It looks like we don't know the age of 177 passengers, and we don't know if two passengers even embarked.\n",
        "\n",
        "Cabin information for a whopping 687 persons is also missing.\n",
        "\n",
        "## Missing Data Visualizations\n",
        "\n",
        "It can sometimes help if we can find some kind of pattern in the missing data.   \n",
        "\n",
        "We can plot the absence of data in a few ways. One of the most helpful is to literally plot gaps in the dataset:"
      ],
      "metadata": {}
    },
    {
      "cell_type": "code",
      "source": [
        "import missingno as msno\n",
        "\n",
        "# Plot a matrix chart, set chart and font size\n",
        "msno.matrix(dataset, figsize=(10,5), fontsize=11)"
      ],
      "outputs": [
        {
          "output_type": "stream",
          "name": "stderr",
          "text": "/anaconda/envs/py38_default/lib/python3.8/site-packages/scipy/__init__.py:146: UserWarning: A NumPy version >=1.16.5 and <1.23.0 is required for this version of SciPy (detected version 1.23.3\n  warnings.warn(f\"A NumPy version >={np_minversion} and <{np_maxversion}\"\n"
        },
        {
          "output_type": "execute_result",
          "execution_count": 5,
          "data": {
            "text/plain": "<matplotlib.axes._subplots.AxesSubplot at 0x7f6d36dc3130>"
          },
          "metadata": {}
        },
        {
          "output_type": "display_data",
          "data": {
            "text/plain": "<Figure size 1000x500 with 2 Axes>",
            "image/png": "[encoded data removed]"
          },
          "metadata": {}
        }
      ],
      "execution_count": 5,
      "metadata": {
        "gather": {
          "logged": 1677283003579
        }
      }
    },
    {
      "attachments": {},
      "cell_type": "markdown",
      "source": [
        "The horizontal white bars in the graph show missing data. Here, the patterns aren't visually clear, but maybe many passengers with missing `Age` information are also missing `Cabin` information.\n",
        "\n",
        "## Identifying Individual Passengers with Missing Information.\n",
        "\n",
        "Let's use pandas to get a list of passengers of unknown age:"
      ],
      "metadata": {}
    },
    {
      "cell_type": "code",
      "source": [
        "# Select Passengers with unknown age\n",
        "# Notice how we use .isnull() rows with no value\n",
        "unknown_age = dataset[dataset[\"Age\"].isnull()]\n",
        "\n",
        "# Print only the columns we want for the moment (to better fit the screen)\n",
        "# limit output to 20 rows\n",
        "unknown_age[[\"PassengerId\",\"Name\", \"Survived\", \"Age\"]][:20]"
      ],
      "outputs": [
        {
          "output_type": "execute_result",
          "execution_count": 6,
          "data": {
            "text/plain": "    PassengerId                                            Name  Survived  Age\n5             6                                Moran, Mr. James         0  NaN\n17           18                    Williams, Mr. Charles Eugene         1  NaN\n19           20                         Masselmani, Mrs. Fatima         1  NaN\n26           27                         Emir, Mr. Farred Chehab         0  NaN\n28           29                   O'Dwyer, Miss. Ellen \"Nellie\"         1  NaN\n29           30                             Todoroff, Mr. Lalio         0  NaN\n31           32  Spencer, Mrs. William Augustus (Marie Eugenie)         1  NaN\n32           33                        Glynn, Miss. Mary Agatha         1  NaN\n36           37                                Mamee, Mr. Hanna         1  NaN\n42           43                             Kraeff, Mr. Theodor         0  NaN\n45           46                        Rogers, Mr. William John         0  NaN\n46           47                               Lennon, Mr. Denis         0  NaN\n47           48                       O'Driscoll, Miss. Bridget         1  NaN\n48           49                             Samaan, Mr. Youssef         0  NaN\n55           56                               Woolner, Mr. Hugh         1  NaN\n64           65                           Stewart, Mr. Albert A         0  NaN\n65           66                        Moubarek, Master. Gerios         1  NaN\n76           77                               Staneff, Mr. Ivan         0  NaN\n77           78                        Moutal, Mr. Rahamin Haim         0  NaN\n82           83                  McDermott, Miss. Brigdet Delia         1  NaN",
            "text/html": "<div>\n<style scoped>\n    .dataframe tbody tr th:only-of-type {\n        vertical-align: middle;\n    }\n\n    .dataframe tbody tr th {\n        vertical-align: top;\n    }\n\n    .dataframe thead th {\n        text-align: right;\n    }\n</style>\n<table border=\"1\" class=\"dataframe\">\n  <thead>\n    <tr style=\"text-align: right;\">\n      <th></th>\n      <th>PassengerId</th>\n      <th>Name</th>\n      <th>Survived</th>\n      <th>Age</th>\n    </tr>\n  </thead>\n  <tbody>\n    <tr>\n      <th>5</th>\n      <td>6</td>\n      <td>Moran, Mr. James</td>\n      <td>0</td>\n      <td>NaN</td>\n    </tr>\n    <tr>\n      <th>17</th>\n      <td>18</td>\n      <td>Williams, Mr. Charles Eugene</td>\n      <td>1</td>\n      <td>NaN</td>\n    </tr>\n    <tr>\n      <th>19</th>\n      <td>20</td>\n      <td>Masselmani, Mrs. Fatima</td>\n      <td>1</td>\n      <td>NaN</td>\n    </tr>\n    <tr>\n      <th>26</th>\n      <td>27</td>\n      <td>Emir, Mr. Farred Chehab</td>\n      <td>0</td>\n      <td>NaN</td>\n    </tr>\n    <tr>\n      <th>28</th>\n      <td>29</td>\n      <td>O'Dwyer, Miss. Ellen \"Nellie\"</td>\n      <td>1</td>\n      <td>NaN</td>\n    </tr>\n    <tr>\n      <th>29</th>\n      <td>30</td>\n      <td>Todoroff, Mr. Lalio</td>\n      <td>0</td>\n      <td>NaN</td>\n    </tr>\n    <tr>\n      <th>31</th>\n      <td>32</td>\n      <td>Spencer, Mrs. William Augustus (Marie Eugenie)</td>\n      <td>1</td>\n      <td>NaN</td>\n    </tr>\n    <tr>\n      <th>32</th>\n      <td>33</td>\n      <td>Glynn, Miss. Mary Agatha</td>\n      <td>1</td>\n      <td>NaN</td>\n    </tr>\n    <tr>\n      <th>36</th>\n      <td>37</td>\n      <td>Mamee, Mr. Hanna</td>\n      <td>1</td>\n      <td>NaN</td>\n    </tr>\n    <tr>\n      <th>42</th>\n      <td>43</td>\n      <td>Kraeff, Mr. Theodor</td>\n      <td>0</td>\n      <td>NaN</td>\n    </tr>\n    <tr>\n      <th>45</th>\n      <td>46</td>\n      <td>Rogers, Mr. William John</td>\n      <td>0</td>\n      <td>NaN</td>\n    </tr>\n    <tr>\n      <th>46</th>\n      <td>47</td>\n      <td>Lennon, Mr. Denis</td>\n      <td>0</td>\n      <td>NaN</td>\n    </tr>\n    <tr>\n      <th>47</th>\n      <td>48</td>\n      <td>O'Driscoll, Miss. Bridget</td>\n      <td>1</td>\n      <td>NaN</td>\n    </tr>\n    <tr>\n      <th>48</th>\n      <td>49</td>\n      <td>Samaan, Mr. Youssef</td>\n      <td>0</td>\n      <td>NaN</td>\n    </tr>\n    <tr>\n      <th>55</th>\n      <td>56</td>\n      <td>Woolner, Mr. Hugh</td>\n      <td>1</td>\n      <td>NaN</td>\n    </tr>\n    <tr>\n      <th>64</th>\n      <td>65</td>\n      <td>Stewart, Mr. Albert A</td>\n      <td>0</td>\n      <td>NaN</td>\n    </tr>\n    <tr>\n      <th>65</th>\n      <td>66</td>\n      <td>Moubarek, Master. Gerios</td>\n      <td>1</td>\n      <td>NaN</td>\n    </tr>\n    <tr>\n      <th>76</th>\n      <td>77</td>\n      <td>Staneff, Mr. Ivan</td>\n      <td>0</td>\n      <td>NaN</td>\n    </tr>\n    <tr>\n      <th>77</th>\n      <td>78</td>\n      <td>Moutal, Mr. Rahamin Haim</td>\n      <td>0</td>\n      <td>NaN</td>\n    </tr>\n    <tr>\n      <th>82</th>\n      <td>83</td>\n      <td>McDermott, Miss. Brigdet Delia</td>\n      <td>1</td>\n      <td>NaN</td>\n    </tr>\n  </tbody>\n</table>\n</div>"
          },
          "metadata": {}
        }
      ],
      "execution_count": 6,
      "metadata": {
        "gather": {
          "logged": 1677283010269
        }
      }
    },
    {
      "attachments": {},
      "cell_type": "markdown",
      "source": [
        "This technique lists the passengers with missing `Cabin` or `Embarked` information as well. Let's combine these using an `AND`, to see how many passengers are missing both Cabin and Age information"
      ],
      "metadata": {}
    },
    {
      "cell_type": "code",
      "source": [
        "# Find those passengers with missing age or cabin information\n",
        "missing_age = dataset[\"Age\"].isnull()\n",
        "missing_cabin = dataset[\"Cabin\"].isnull()\n",
        "\n",
        "# Find those passengers missing both\n",
        "unknown_age_and_cabin = dataset[missing_age & missing_cabin]\n",
        "print(\"Number of passengers missing age and cabin information:\", len(unknown_age_and_cabin))"
      ],
      "outputs": [
        {
          "output_type": "stream",
          "name": "stdout",
          "text": "Number of passengers missing age and cabin information: 158\n"
        }
      ],
      "execution_count": 7,
      "metadata": {
        "gather": {
          "logged": 1677283016339
        }
      }
    },
    {
      "attachments": {},
      "cell_type": "markdown",
      "source": [
        "Our suspicions were correct - most passengers missing age information are also missing cabin information. \n",
        "\n",
        "Normally, from here, we would want to know _why_ we have this issue. A good hypothesis is that information was not collected carefully enough for the passengers who used the cheap tickets. \n",
        "\n",
        "Let's plot a histogram of ticket classes, and another of just people missing information. "
      ],
      "metadata": {}
    },
    {
      "cell_type": "code",
      "source": [
        "import matplotlib.pyplot as plt\n",
        "\n",
        "plt.hist((dataset.values[:,2]),bins=[0.5, 1.5, 2.5, 3.5],edgecolor=\"white\")\n",
        "plt.hist((unknown_age_and_cabin.values[:,2]),bins=[0.5, 1.5, 2.5, 3.5],edgecolor=\"white\")\n",
        "plt.xticks([1, 2, 3])\n",
        "plt.xlabel(\"Pclass (Passenger Class)\", fontsize=16)\n",
        "plt.ylabel(\"Passenger Count\", fontsize=16)"
      ],
      "outputs": [
        {
          "output_type": "execute_result",
          "execution_count": 8,
          "data": {
            "text/plain": "Text(0, 0.5, 'Passenger Count')"
          },
          "metadata": {}
        },
        {
          "output_type": "display_data",
          "data": {
            "text/plain": "<Figure size 640x480 with 1 Axes>",
            "image/png": "[encoded data removed]"
          },
          "metadata": {}
        }
      ],
      "execution_count": 8,
      "metadata": {
        "gather": {
          "logged": 1677283029277
        }
      }
    },
    {
      "attachments": {},
      "cell_type": "markdown",
      "source": [
        "It seems that those passengers with missing information typically used the cheaper tickets. These sorts of biases might cause problems in real-world analyses.\n",
        "\n",
        "## Missing as Zero\n",
        "\n",
        "Additionally, some datasets may have missing values that appear as zero. While the Titanic dataset doesn't have this problem, let's see how that would work here."
      ],
      "metadata": {}
    },
    {
      "cell_type": "code",
      "source": [
        "import numpy as np\n",
        "\n",
        "# Print out the average age of passengers for whom we have age data\n",
        "mean_age = np.mean(dataset.Age)\n",
        "print(\"The average age on the ship was\", mean_age, \"years old\")\n",
        "\n",
        "# Now, make another model where missing ages contained a '0'\n",
        "dataset['Age_2'] = dataset['Age'].fillna(0)\n",
        "mean_age = np.mean(dataset.Age_2)\n",
        "print(\"The average age on the ship was\", mean_age, \"years old\")"
      ],
      "outputs": [
        {
          "output_type": "stream",
          "name": "stdout",
          "text": "The average age on the ship was 29.69911764705882 years old\nThe average age on the ship was 23.79929292929293 years old\n"
        }
      ],
      "execution_count": 9,
      "metadata": {
        "gather": {
          "logged": 1677284001038
        }
      }
    },
    {
      "attachments": {},
      "cell_type": "markdown",
      "source": [
        "What happened here? Our analyses consider the values of `0` not as 'missing' values, but instead as actual age values.\n",
        "\n",
        "This shows that it can be important to time the review of your raw data before you run the analyses. Another fast way to get a feel for a dataset is to graph its distribution:"
      ],
      "metadata": {}
    },
    {
      "cell_type": "code",
      "source": [
        "plt.hist(dataset[\"Age\"],bins=[0, 10, 20, 30, 40, 50, 60, 70, 80, 90],edgecolor=\"white\")\n",
        "plt.xticks([0, 10, 20, 30, 40, 50, 60, 70, 80, 90])\n",
        "plt.xlim([0, 90])\n",
        "plt.xlabel(\"Age_2\", fontsize=16)\n",
        "plt.ylabel(\"Passenger Count\", fontsize=16)"
      ],
      "outputs": [
        {
          "output_type": "execute_result",
          "execution_count": 10,
          "data": {
            "text/plain": "Text(0, 0.5, 'Passenger Count')"
          },
          "metadata": {}
        },
        {
          "output_type": "display_data",
          "data": {
            "text/plain": "<Figure size 640x480 with 1 Axes>",
            "image/png": "[encoded data removed]"
          },
          "metadata": {}
        }
      ],
      "execution_count": 10,
      "metadata": {
        "gather": {
          "logged": 1677284008964
        }
      }
    },
    {
      "attachments": {},
      "cell_type": "markdown",
      "source": [
        "Here, we see an unlikely number of very young children. This would be cause for further inspection of the data, to hopefully spot the fact that the missing ages appear as zeros.\n",
        "\n",
        "## Handling Missing Data\n",
        "\n",
        "We have many ways to address missing data, each with pros and cons.\n",
        "\n",
        "Let's take a look at the less complex options:\n",
        "\n",
        "### Option 1: Delete data with missing rows\n",
        "\n",
        "For a model that cannot handle missing data, the most prudent thing to do is to remove rows that have information missing.\n",
        "\n",
        "Let's remove some data from the `Embarked` column, which only has two rows with missing data."
      ],
      "metadata": {}
    },
    {
      "cell_type": "code",
      "source": [
        "# Create a \"clean\" dataset, where we cumulatively fix missing values\n",
        "# Start by removing rows ONLY where \"Embarked\" has no values\n",
        "print(f\"The original size of our dataset was\", dataset.shape)\n",
        "clean_dataset = dataset.dropna(subset=[\"Embarked\"])\n",
        "clean_dataset = clean_dataset.reindex()\n",
        "\n",
        "# How many rows do we have now?\n",
        "print(\"The shape for the clean dataset is\", clean_dataset.shape)"
      ],
      "outputs": [
        {
          "output_type": "stream",
          "name": "stdout",
          "text": "The original size of our dataset was (891, 13)\nThe shape for the clean dataset is (889, 13)\n"
        }
      ],
      "execution_count": 11,
      "metadata": {
        "gather": {
          "logged": 1677284015800
        }
      }
    },
    {
      "attachments": {},
      "cell_type": "markdown",
      "source": [
        "We can see that this removed the offending two rows from our new, clean dataset.\n",
        "\n",
        "### Option 2: Replace empty values with the mean or median for that data.\n",
        "\n",
        "Sometimes, our model cannot handle missing values, and we also cannot afford to remove too much data. In this case, we can sometimes fill in missing data with an average calculated on the basis of the rest of the dataset. Note that imputing data like this can affect model performance in a negative way. Usually, it's better to simply remove missing data, or to use a model designed to handle missing values.\n",
        "\n",
        "Here, we impute data for the `Age` field. We use the mean `Age` from the remaining rows, given that >80% of these have values:"
      ],
      "metadata": {}
    },
    {
      "cell_type": "code",
      "source": [
        "# Calculate the mean value for the Age column\n",
        "mean_age = clean_dataset[\"Age\"].mean()\n",
        "\n",
        "print(\"The mean age is\", mean_age)\n",
        "\n",
        "# Replace empty values in \"Age\" with the mean calculated above\n",
        "clean_dataset[\"Age\"].fillna(mean_age, inplace=True)\n",
        "\n",
        "# Let's see what the clean dataset looks like now\n",
        "print(clean_dataset.isnull().sum().to_frame().rename(columns={0:'Empty Cells'}))"
      ],
      "outputs": [
        {
          "output_type": "stream",
          "name": "stdout",
          "text": "The mean age is 29.64209269662921\n             Empty Cells\nPassengerId            0\nSurvived               0\nPclass                 0\nName                   0\nSex                    0\nAge                    0\nSibSp                  0\nParch                  0\nTicket                 0\nFare                   0\nCabin                687\nEmbarked               0\nAge_2                  0\n"
        }
      ],
      "execution_count": 12,
      "metadata": {
        "gather": {
          "logged": 1677284021762
        }
      }
    },
    {
      "attachments": {},
      "cell_type": "markdown",
      "source": [
        "The `Age` field has no longer has empty cells.\n",
        "\n",
        "### Option 3: Assign a new category to unknown categorical data\n",
        "\n",
        "The `Cabin` field is a categorical field, because the Titanic cabins have a finite number of possible options. Unfortunately, many records have no cabin listed.\n",
        "\n",
        "For this exercise, it makes perfect sense to create an `Unknown` category, and assign it to the cases where the cabin is unknown:"
      ],
      "metadata": {}
    },
    {
      "cell_type": "code",
      "source": [
        "# Assign unknown to records where \"Cabin\" is empty\n",
        "clean_dataset[\"Cabin\"].fillna(\"Unknown\", inplace=True)\n",
        "\n",
        "# Let's see what the clean dataset looks like now\n",
        "print(clean_dataset.isnull().sum().to_frame().rename(columns={0:'Empty Cells'}))"
      ],
      "outputs": [
        {
          "output_type": "stream",
          "name": "stdout",
          "text": "             Empty Cells\nPassengerId            0\nSurvived               0\nPclass                 0\nName                   0\nSex                    0\nAge                    0\nSibSp                  0\nParch                  0\nTicket                 0\nFare                   0\nCabin                  0\nEmbarked               0\nAge_2                  0\n"
        }
      ],
      "execution_count": 13,
      "metadata": {
        "gather": {
          "logged": 1677284026121
        }
      }
    },
    {
      "attachments": {},
      "cell_type": "markdown",
      "source": [
        "That's it! No more missing data!\n",
        "\n",
        "We only lost two records (where `Embarked` was empty).\n",
        "\n",
        "That said, we had to make some approximations to fill the missing gaps for the `Age` and `Cabin` columns, and those will certainly influence the performance of any model we train on this data.\n",
        "\n",
        "## Summary\n",
        "\n",
        "Missing values can affect the way a Machine Learning model works in a negative way. It's important to quickly verify the existence of data gaps, and the locations of those gaps.\n",
        "\n",
        "You can now get a \"big picture\" of what is missing. Using lists and charts, you can select only those items that you must address.\n",
        "\n",
        "In this exercise, we practiced:\n",
        "\n",
        "- Finding and visualization of missing dataset values, with the `pandas` and `missingno` packages.\n",
        "- Checking whether a dataset uses the value '0' to represent missing values.\n",
        "- Handling missing data in three ways: removal of rows that contain missing values, replacement of the missing values with the mean or median of that particular feature, and creation of a new `Unknown` category, when dealing with categorical data."
      ],
      "metadata": {}
    }
  ],
  "metadata": {
    "kernel_info": {
      "name": "conda-env-py38_default-py"
    },
    "kernelspec": {
      "name": "conda-env-py38_default-py",
      "language": "python",
      "display_name": "py38_default"
    },
    "language_info": {
      "name": "python",
      "version": "3.8.13",
      "mimetype": "text/x-python",
      "codemirror_mode": {
        "name": "ipython",
        "version": 3
      },
      "pygments_lexer": "ipython3",
      "nbconvert_exporter": "python",
      "file_extension": ".py"
    },
    "microsoft": {
      "host": {
        "AzureML": {
          "notebookHasBeenCompleted": true
        }
      },
      "ms_spell_check": {
        "ms_spell_check_language": "en"
      }
    },
    "nteract": {
      "version": "nteract-front-end@1.0.0"
    },
    "vscode": {
      "interpreter": {
        "hash": "d986dcce87f8efbe64f9555c9767535f3ea76b09442c50f327a793e0b4903fbe"
      }
    }
  },
  "nbformat": 4,
  "nbformat_minor": 2
}